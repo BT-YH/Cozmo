{
 "cells": [
  {
   "cell_type": "code",
   "execution_count": 1,
   "metadata": {},
   "outputs": [],
   "source": [
    "import cozmo # pip install --user cozmo[camera]\n",
    "from PIL import Image\n",
    "import cv2  # pip install opencv-python\n",
    "from cozmo.util import degrees, distance_mm, speed_mmps\n",
    "import random\n",
    "import sys\n",
    "import os\n",
    "import numpy as np\n",
    "import time"
   ]
  },
  {
   "cell_type": "code",
   "execution_count": null,
   "metadata": {},
   "outputs": [],
   "source": [
    "\n",
    "# Hello world demo code for testing the connection to the Anki Cozmo robot\n",
    "def cozmo_program(robot: cozmo.robot.Robot):\n",
    "    robot.say_text(\"Hello World\").wait_for_completed()\n",
    "\n",
    "\n",
    "cozmo.run_program(cozmo_program)"
   ]
  },
  {
   "cell_type": "markdown",
   "metadata": {},
   "source": [
    "We now take a sequence of pictures at different angles and store them in a subdirectory. "
   ]
  },
  {
   "cell_type": "code",
   "execution_count": null,
   "metadata": {},
   "outputs": [],
   "source": [
    "# Adapted from http://cs.gettysburg.edu/~tneller/archive/cs371/cozmo/22sp/fuller/PictureTaking.py\n",
    "# Todd W. Neller\n",
    "\n",
    "# Use python versions between 3.5 and 3.9 inclusive. This group used 3.9.7\n",
    "print(\"Python version\", sys.version)\n",
    "\n",
    "image_dict = {}\n",
    "\n",
    "def take_pictures(robot):\n",
    "  robot.say_text(\"taking pictures\").wait_for_completed()\n",
    "  move_arms = robot.set_lift_height(0)\n",
    "  move_arms.wait_for_completed()\n",
    "  set_head = robot.set_head_angle((cozmo.robot.MAX_HEAD_ANGLE) / 3, in_parallel = True)\n",
    "  set_head.wait_for_completed()\n",
    "  # Enabling Cozmo Camera\n",
    "  robot.camera.image_stream_enabled = True\n",
    "  latest_image = robot.world.latest_image\n",
    "  while latest_image is None:\n",
    "    print('Awaiting first comzo image...')\n",
    "    time.sleep(1)\n",
    "    latest_image = robot.world.latest_image\n",
    "  # Saves picture of what Cozmo sees every incremental number of degrees.\n",
    "  directory_name = 'images'\n",
    "  if not os.path.exists(directory_name):\n",
    "    os.mkdir(directory_name)\n",
    "  degree_increment = 5\n",
    "  i = 0\n",
    "  image_dict = {}\n",
    "  while i < 400 / degree_increment:\n",
    "    filename = f'{directory_name}/{i}.jpg'\n",
    "    latest_image = robot.world.latest_image\n",
    "    if latest_image is not None:\n",
    "      annotated = latest_image.annotate_image()\n",
    "      converted = annotated.convert()\n",
    "      print(f'saving image {filename}...')\n",
    "      converted.save(filename, \"JPEG\", resolution=10)\n",
    "      image_dict[i] = cv2.cvtColor(cv2.imread(filename), cv2.COLOR_BGR2GRAY)\n",
    "    print(image_dict[i].shape)\n",
    "    robot.turn_in_place(degrees(degree_increment)).wait_for_completed()\n",
    "    i += 1\n",
    "\n",
    "# spins the cozmo more than 360 degrees to get a panorama image of its current environment\n",
    "def cozmo_program(robot: cozmo.robot.Robot):\n",
    "  take_pictures(robot)\n",
    "\n",
    "cozmo.run_program(cozmo_program)\n"
   ]
  },
  {
   "cell_type": "code",
   "execution_count": null,
   "metadata": {},
   "outputs": [],
   "source": [
    "def take_pictures_turn_sequence(robot):\n",
    "  robot.say_text(\"taking random turn pictures\").wait_for_completed()\n",
    "  move_arms = robot.set_lift_height(0)\n",
    "  move_arms.wait_for_completed()\n",
    "  set_head = robot.set_head_angle((cozmo.robot.MAX_HEAD_ANGLE) / 3, in_parallel = True)\n",
    "  set_head.wait_for_completed()\n",
    "  # Enabling Cozmo Camera\n",
    "  robot.camera.image_stream_enabled = True\n",
    "  latest_image = robot.world.latest_image\n",
    "  while latest_image is None:\n",
    "    print('Awaiting first comzo image...')\n",
    "    time.sleep(1)\n",
    "    latest_image = robot.world.latest_image\n",
    "  # Saves picture of what Cozmo sees every incremental number of degrees.\n",
    "  directory_name = 'images'\n",
    "  if not os.path.exists(directory_name):\n",
    "    os.mkdir(directory_name)\n",
    "  i = 0\n",
    "  while i < 30:\n",
    "    turn_angle = random.randint(0, 360)\n",
    "    if turn_angle > 180:\n",
    "      turn_angle -= 360\n",
    "    print(f'Turning {turn_angle} degrees...') \n",
    "    robot.turn_in_place(degrees(turn_angle)).wait_for_completed()\n",
    "    filename = f'{directory_name}/turn_{i}_{turn_angle}.jpg'\n",
    "    latest_image = robot.world.latest_image\n",
    "    if latest_image is not None:\n",
    "      annotated = latest_image.annotate_image()\n",
    "      converted = annotated.convert()\n",
    "      print(f'saving image {filename}...')\n",
    "      converted.save(filename, \"JPEG\", resolution=10)\n",
    "    i += 1\n",
    "\n",
    "# spins the cozmo 360 degrees to get a panorama image of its current environment\n",
    "def cozmo_program(robot: cozmo.robot.Robot):\n",
    "  take_pictures_turn_sequence(robot)\n",
    "\n",
    "cozmo.run_program(cozmo_program)"
   ]
  }
 ],
 "metadata": {
  "kernelspec": {
   "display_name": "Python 3 (ipykernel)",
   "language": "python",
   "name": "python3"
  },
  "language_info": {
   "codemirror_mode": {
    "name": "ipython",
    "version": 3
   },
   "file_extension": ".py",
   "mimetype": "text/x-python",
   "name": "python",
   "nbconvert_exporter": "python",
   "pygments_lexer": "ipython3",
   "version": "3.8.8"
  }
 },
 "nbformat": 4,
 "nbformat_minor": 2
}
