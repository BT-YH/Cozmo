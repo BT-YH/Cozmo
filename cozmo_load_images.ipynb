{
 "cells": [
  {
   "cell_type": "code",
   "execution_count": 1,
   "metadata": {},
   "outputs": [],
   "source": [
    "from PIL import Image\n",
    "import cv2  # pip install opencv-python\n",
    "import random\n",
    "import sys\n",
    "import os\n",
    "import numpy as np\n",
    "import time"
   ]
  },
  {
   "cell_type": "markdown",
   "metadata": {},
   "source": [
    "In this code, we load the images taken and stored in the `images` subdirectory in the notebook cozmo_collect_images.ipynb.  Note that this code has no need of the Anki Cozmo robot and can be worked on separately. "
   ]
  },
  {
   "cell_type": "code",
   "execution_count": 2,
   "metadata": {},
   "outputs": [
    {
     "name": "stdout",
     "output_type": "stream",
     "text": [
      "Loaded 80 scan images.\n",
      "Loaded 30 random turn images.\n"
     ]
    }
   ],
   "source": [
    "directory_name = 'images'\n",
    "\n",
    "# Load the sequential small, fixed, positive turn interval sequence of images that scan the room for more than one revolution\n",
    "num_scan_images = 80\n",
    "scan_images = []\n",
    "for i in range(num_scan_images):\n",
    "  filename = f'{directory_name}/{i}.jpg'\n",
    "  scan_images.append(cv2.cvtColor(cv2.imread(filename), cv2.COLOR_BGR2GRAY))\n",
    "print(f'Loaded {len(scan_images)} scan images.')\n",
    "\n",
    "random_turn_angles = [47, 160, -105, 8, 169, 63, -70, 118, -106, -20, 129, 125, -151, 126, -161, -70, -170, 88, -23, -135, 131, 150, -123, -155, 171, -129, -88, -112, 123, 157]\n",
    "random_turn_images = []\n",
    "for i in range(len(random_turn_angles)):\n",
    "  filename = f'{directory_name}/turn_{i}_{random_turn_angles[i]}.jpg'\n",
    "  random_turn_images.append(cv2.cvtColor(cv2.imread(filename), cv2.COLOR_BGR2GRAY))\n",
    "print(f'Loaded {len(random_turn_images)} random turn images.')\n"
   ]
  }
 ],
 "metadata": {
  "kernelspec": {
   "display_name": "Python 3 (ipykernel)",
   "language": "python",
   "name": "python3"
  },
  "language_info": {
   "codemirror_mode": {
    "name": "ipython",
    "version": 3
   },
   "file_extension": ".py",
   "mimetype": "text/x-python",
   "name": "python",
   "nbconvert_exporter": "python",
   "pygments_lexer": "ipython3",
   "version": "3.8.8"
  }
 },
 "nbformat": 4,
 "nbformat_minor": 2
}
